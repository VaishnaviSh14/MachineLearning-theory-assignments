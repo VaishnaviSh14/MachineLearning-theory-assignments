{
 "cells": [
  {
   "cell_type": "markdown",
   "id": "57b7a077-501b-48a9-8637-031e4a923eb3",
   "metadata": {},
   "source": [
    "Q1. How does bagging reduce overfitting in decision trees?\n",
    "\n",
    "Ans.\n",
    "\n",
    "Bagging reduces overfitting in decision trees by training multiple decision trees on different bootstrapped samples of the training data. This helps to prevent any one decision tree from becoming too specialized to the training data, and it also helps to average out the errors of the individual decision trees."
   ]
  },
  {
   "cell_type": "markdown",
   "id": "d065862e-fc84-4ac6-81b7-0f30bd4330d4",
   "metadata": {},
   "source": [
    "Q2. What are the advantages and disadvantages of using different types of base learners in bagging?\n",
    "\n",
    "Ans.\n",
    "\n",
    "There are a few advantages to using different types of base learners in bagging. First, it can help to reduce the variance of the ensemble model. Second, it can help to improve the accuracy of the ensemble model in cases where the individual base learners are biased in different directions.\n",
    "\n",
    "However, there are also a few disadvantages to using different types of base learners in bagging. First, it can make the ensemble model more complex and difficult to interpret. Second, it can increase the computational cost of training the ensemble model."
   ]
  },
  {
   "cell_type": "markdown",
   "id": "d792e0d2-75f0-4ed7-bfcf-ed0f8c66333a",
   "metadata": {},
   "source": [
    "Q3. How does the choice of base learner affect the bias-variance tradeoff in bagging?\n",
    "\n",
    "Ans.\n",
    "\n",
    "The choice of base learner affects the bias-variance tradeoff in bagging in a few ways. First, base learners with low bias tend to have high variance, and base learners with high bias tend to have low variance. Second, base learners that are more complex tend to have higher variance, and base learners that are less complex tend to have lower variance.\n",
    "\n",
    "In general, bagging can help to reduce the variance of an ensemble model by training multiple base learners on different bootstrapped samples of the training data. However, bagging can also increase the bias of an ensemble model if the base learners are biased in the same direction."
   ]
  },
  {
   "cell_type": "markdown",
   "id": "991a920e-789e-475e-8476-7cc45f505ce2",
   "metadata": {},
   "source": [
    "Q4. Can bagging be used for both classification and regression tasks? How does it differ in each case?\n",
    "\n",
    "Ans.\n",
    "\n",
    "Yes, bagging can be used for both classification and regression tasks. However, there are some differences in how bagging is used for each task.\n",
    "\n",
    "For classification tasks, bagging is typically used to train a set of decision trees. The predictions of the individual decision trees are then averaged to produce the final prediction of the ensemble model.\n",
    "\n",
    "For regression tasks, bagging is typically used to train a set of linear regression models. The predictions of the individual linear regression models are then averaged to produce the final prediction of the ensemble model.\n",
    "\n"
   ]
  },
  {
   "cell_type": "markdown",
   "id": "c9b2909a-0edc-485f-9c51-dab6937032bd",
   "metadata": {},
   "source": [
    "Q5. What is the role of ensemble size in bagging? How many models should be included in the ensemble?\n",
    "\n",
    "\n",
    "Ans.\n",
    "The ensemble size is the number of base learners that are included in the ensemble model. The ensemble size affects the bias-variance tradeoff of the ensemble model.\n",
    "\n",
    "In general, a larger ensemble size will reduce the variance of the ensemble model, but it will also increase the bias of the ensemble model. A smaller ensemble size will increase the bias of the ensemble model, but it will also reduce the variance of the ensemble model.\n",
    "\n",
    "The optimal ensemble size depends on the specific problem that is being solved. However, a good starting point is to use an ensemble size of 10-100 base learners."
   ]
  },
  {
   "cell_type": "markdown",
   "id": "7a57d335-81b7-40c0-9e2d-a114df45ad84",
   "metadata": {},
   "source": [
    "Q6. Can you provide an example of a real-world application of bagging in machine learning?\n",
    "\n",
    "Ans.\n",
    "Bagging is a popular machine learning technique that is used in a variety of real-world applications. For example, bagging is used in the following applications:\n",
    "\n",
    "Fraud detection: Bagging can be used to train a set of decision trees to detect fraudulent transactions.\n",
    "Medical diagnosis: Bagging can be used to train a set of decision trees to diagnose diseases.\n",
    "Image classification: Bagging can be used to train a set of linear regression models to classify images.\n",
    "Text classification: Bagging can be used to train a set of decision trees to classify text documents"
   ]
  }
 ],
 "metadata": {
  "kernelspec": {
   "display_name": "Python 3 (ipykernel)",
   "language": "python",
   "name": "python3"
  },
  "language_info": {
   "codemirror_mode": {
    "name": "ipython",
    "version": 3
   },
   "file_extension": ".py",
   "mimetype": "text/x-python",
   "name": "python",
   "nbconvert_exporter": "python",
   "pygments_lexer": "ipython3",
   "version": "3.10.8"
  }
 },
 "nbformat": 4,
 "nbformat_minor": 5
}
