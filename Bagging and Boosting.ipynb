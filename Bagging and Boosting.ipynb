{
 "cells": [
  {
   "cell_type": "markdown",
   "id": "05b9ffa7-ac98-492e-af2e-b325d39497ec",
   "metadata": {},
   "source": [
    "Q1. What is an ensemble technique in machine learning?\n",
    "\n",
    "Ans.\n",
    "\n",
    "An ensemble technique is a machine learning method that combines the predictions of multiple models to make a more accurate prediction. Ensemble techniques can be used for both classification and regression tasks.\n"
   ]
  },
  {
   "cell_type": "markdown",
   "id": "bb5562d0-1f26-4275-bf6e-8c607a950880",
   "metadata": {},
   "source": [
    "Q2. Why are ensemble techniques used in machine learning?\n",
    "\n",
    "Ans.\n",
    "\n",
    "Ensemble techniques are used in machine learning for a number of reasons, including:\n",
    "\n",
    "To improve the accuracy of predictions.\n",
    "To reduce variance and bias in predictions.\n",
    "To make more robust predictions that are less sensitive to noise in the data.\n",
    "To provide a more reliable estimate of the uncertainty in predictions."
   ]
  },
  {
   "cell_type": "markdown",
   "id": "a8d780c3-4811-425f-8042-df14dfc6b9ee",
   "metadata": {},
   "source": [
    "Q3. What is bagging?\n",
    "\n",
    "Ans.\n",
    "\n",
    "Bagging is an ensemble technique that combines the predictions of multiple models that are trained on bootstrap samples of the original data. Bootstrap samples are created by sampling the original data with replacement. This means that some data points may be included in multiple bootstrap samples, while other data points may not be included in any bootstrap samples.\n"
   ]
  },
  {
   "cell_type": "code",
   "execution_count": null,
   "id": "734fcf46-fc2c-43df-b12a-a6b1d439f9cc",
   "metadata": {},
   "outputs": [],
   "source": [
    "Q4. What is boosting?\n",
    "\n",
    "Ans.\n",
    "\n",
    "Boosting is an ensemble technique that combines the predictions of multiple models that are trained sequentially. Each model in a boosting ensemble is trained to correct the errors made by the previous models in the ensemble. This process is repeated until a desired level of accuracy is achieved.\n"
   ]
  },
  {
   "cell_type": "code",
   "execution_count": null,
   "id": "5c467447-e0a1-4373-b5e2-3fd92a0bc099",
   "metadata": {},
   "outputs": [],
   "source": [
    "Q5. What are the benefits of using ensemble techniques?\n",
    "\n",
    "Ans.\n",
    "\n",
    "The benefits of using ensemble techniques include:\n",
    "\n",
    "Improved accuracy: Ensemble techniques can often outperform individual models by combining the strengths of multiple models.\n",
    "Reduced variance: Ensemble techniques can reduce the variance of predictions, which makes them more reliable.\n",
    "Increased robustness: Ensemble techniques can be more robust to noise in the data than individual models.\n",
    "Improved uncertainty estimation: Ensemble techniques can provide a more reliable estimate of the uncertainty in predictions."
   ]
  },
  {
   "cell_type": "code",
   "execution_count": null,
   "id": "f5d9ebfe-60bb-4095-bd16-dc86b9f8e5ca",
   "metadata": {},
   "outputs": [],
   "source": [
    "Q6. Are ensemble techniques always better than individual models?\n",
    "\n",
    "Ans.\n",
    "Ensemble techniques are not always better than individual models. In some cases, individual models may outperform ensemble techniques. However, ensemble techniques are generally a good choice for improving the accuracy, robustness, and uncertainty estimation of machine learning models.\n"
   ]
  },
  {
   "cell_type": "code",
   "execution_count": null,
   "id": "b75e708d-6da1-4515-a23c-de534c804e84",
   "metadata": {},
   "outputs": [],
   "source": [
    "Q7. How is the confidence interval calculated using bootstrap?\n",
    "\n",
    "Ans.\n",
    "The confidence interval for a population parameter can be estimated using bootstrap by repeatedly sampling the original data with replacement and calculating the parameter of interest for each bootstrap sample. The 95% confidence interval is then the range that contains 95% of the bootstrapped parameter estimates.\n"
   ]
  },
  {
   "cell_type": "code",
   "execution_count": null,
   "id": "fc086004-3e9a-4f36-82ef-f25f9ce69e09",
   "metadata": {},
   "outputs": [],
   "source": [
    "Q8. How does bootstrap work and What are the steps involved in bootstrap?\n",
    "\n",
    "Ans.\n",
    "\n"
   ]
  },
  {
   "cell_type": "code",
   "execution_count": null,
   "id": "fe213a55-2802-4a21-8740-5687ab292b03",
   "metadata": {},
   "outputs": [],
   "source": [
    "Q9. A researcher wants to estimate the mean height of a population of trees. They measure the height of a\n",
    "sample of 50 trees and obtain a mean height of 15 meters and a standard deviation of 2 meters. Use\n",
    "bootstrap to estimate the 95% confidence interval for the population mean height.\n",
    "\n",
    "Ans.\n"
   ]
  }
 ],
 "metadata": {
  "kernelspec": {
   "display_name": "Python 3 (ipykernel)",
   "language": "python",
   "name": "python3"
  },
  "language_info": {
   "codemirror_mode": {
    "name": "ipython",
    "version": 3
   },
   "file_extension": ".py",
   "mimetype": "text/x-python",
   "name": "python",
   "nbconvert_exporter": "python",
   "pygments_lexer": "ipython3",
   "version": "3.10.8"
  }
 },
 "nbformat": 4,
 "nbformat_minor": 5
}
