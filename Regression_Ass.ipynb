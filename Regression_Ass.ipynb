{
 "cells": [
  {
   "cell_type": "markdown",
   "id": "15e4392e-7ac6-409c-bccc-1e34159188b2",
   "metadata": {},
   "source": [
    "Q1. Explain the difference between simple linear regression and multiple linear regression. Provide an\n",
    "example of each.\n",
    "\n",
    "Ans.\n",
    "Simple Linear Regression is a statistical method used to model the relationship between two variables - a dependent variable and an independent variable.\n",
    "The relationship is represented by a straight line. Example: Predicting a person's weight (dependent variable) based on their height \n",
    "\n",
    "Multiple Linear Regression extends this concept by considering multiple independent variables to model the relationship with the dependent variable. In essence, it's an extension of simple linear regression to multiple predictors. Example: Predicting a house's price (dependent variable) based on its size, number of bedrooms, and location (independent variables)."
   ]
  },
  {
   "cell_type": "markdown",
   "id": "0c6704ee-43e5-4d68-86ea-ce1a4e55845d",
   "metadata": {},
   "source": [
    "Q2. Discuss the assumptions of linear regression. How can you check whether these assumptions hold in\n",
    "a given dataset?\n",
    "\n",
    "Ans.\n",
    "Assumptions are - \n",
    "\n",
    "1. Linearity: The relationship between independent and dependent variables is linear.\n",
    "2. Independence: Residuals (the differences between actual and predicted values) are independent of each other.\n",
    "3. Homoscedasticity: Residuals have constant variance across all levels of predictors.\n",
    "4. Normality: Residuals are normally distributed.\n",
    "\n",
    "We can check these assumptions by plotting residuals against fitted values, using residual plots to identify patterns, and performing statistical tests like the Shapiro-Wilk test for normality."
   ]
  },
  {
   "cell_type": "markdown",
   "id": "39139983-a84c-4a40-a260-eb2fb933a997",
   "metadata": {},
   "source": [
    "Q3. How do you interpret the slope and intercept in a linear regression model? Provide an example using\n",
    "a real-world scenario.\n",
    "\n",
    "Ans.\n",
    "In a linear regression model (hθ(x) = θ0 + θ1x), the slope (θ1) represents the change in the dependent variable. The intercept (θ0) represents the value of the dependent variable when the independent variable is zero.\n",
    "\n",
    "eg - \n",
    "\n",
    "x  y\n",
    "1  1\n",
    "2  2\n",
    "3  3\n",
    "\n",
    "hθ(x) = θ0 + θ1 xi\n",
    "θ0 = 0\n",
    "\n",
    "Taking xi = 1\n",
    "hθ(x) = 0+1(1)  = 1\n",
    "\n",
    "Taking xi = 2\n",
    "hθ(x) = 0+1(2)  = 2\n",
    "\n",
    "Taking xi = 3\n",
    "hθ(x) = 0+1(3)  = 3"
   ]
  },
  {
   "cell_type": "markdown",
   "id": "49a3e6bb-d746-40e8-8cf8-ecaa60287866",
   "metadata": {},
   "source": [
    "Q4. Explain the concept of gradient descent. How is it used in machine learning?\n",
    "\n",
    "Ans.\n",
    "\n",
    "Gradient Descent is an optimization algorithm used in machine learning to minimize the error (cost function) of a model. It iteratively adjusts the model's parameters in the direction that reduces the error the most."
   ]
  },
  {
   "cell_type": "markdown",
   "id": "e980e9d4-d639-4a76-81a5-bfcfed6a60a6",
   "metadata": {},
   "source": [
    "Describe the multiple linear regression model. How does it differ from simple linear regression?\n",
    "\n",
    "Ans.\n",
    "\n",
    "Ans.\n",
    "Multiple Linear Regression considers multiple independent variables to predict a dependent variable.\n",
    "Equation - hθ(x) = θ0 + θ1 x1 +  θ2 x2 + θ3 x3 + ............ + θn xn\n",
    "\n",
    "Difference from Simple Linear Regression: In simple linear regression, there's only one independent variable, while multiple linear regression involves multiple independent variables.\n"
   ]
  },
  {
   "cell_type": "markdown",
   "id": "88a0eec6-6339-4c61-9478-e695da96e874",
   "metadata": {},
   "source": [
    "Q6. Explain the concept of multicollinearity in multiple linear regression. How can you detect and\n",
    "address this issue?\n",
    "\n",
    "Ans.\n",
    "\n",
    "Multicollinearity occurs when independent variables in a multiple linear regression model are highly correlated. It can lead to unstable coefficient estimates and difficulty in interpreting their individual effects. You can detect multicollinearity by calculating correlation coefficients between independent variables.\n"
   ]
  },
  {
   "cell_type": "markdown",
   "id": "7f83532a-1499-4f6b-9a3d-2a2cfe38169d",
   "metadata": {},
   "source": [
    "Q7. Describe the polynomial regression model. How is it different from linear regression?\n",
    "\n",
    "Ans.\n",
    "\n",
    "Polynomial Regression is a type of regression that models the relationship between the independent and dependent variables as a polynomial equation of a certain degree. It's used when the relationship isn't linear. The model equation becomes y = b0 + b1x + b2x^2 + ... + bnx^n.\n",
    "\n",
    "Linear regression assumes a linear relationship between variables, while polynomial regression allows for curved relationships by introducing higher-order terms."
   ]
  },
  {
   "cell_type": "markdown",
   "id": "78a137f9-cf09-49ff-b140-af84ce587e7d",
   "metadata": {},
   "source": [
    "Q8. What are the advantages and disadvantages of polynomial regression compared to linear\n",
    "regression? In what situations would you prefer to use polynomial regression?\n",
    "\n",
    "Ans.\n",
    "Advantages:\n",
    "1. Can capture non-linear relationships in data.\n",
    "2. Provides more flexibility in modeling complex patterns.\n",
    "3. Can improve accuracy when a linear model doesn't fit well.\n",
    "\n",
    "Disadvantages:\n",
    "\n",
    "1. Prone to overfitting, especially with high-degree polynomials.\n",
    "2. Difficult to interpret coefficients for higher-degree terms.\n",
    "3.May not generalize well to new data.\n",
    "\n",
    "Polynomial regression is preferred in situations where the relationship between the independent and dependent variables is non-linear and cannot be adequately captured by a simple linear model. "
   ]
  }
 ],
 "metadata": {
  "kernelspec": {
   "display_name": "Python 3 (ipykernel)",
   "language": "python",
   "name": "python3"
  },
  "language_info": {
   "codemirror_mode": {
    "name": "ipython",
    "version": 3
   },
   "file_extension": ".py",
   "mimetype": "text/x-python",
   "name": "python",
   "nbconvert_exporter": "python",
   "pygments_lexer": "ipython3",
   "version": "3.10.8"
  }
 },
 "nbformat": 4,
 "nbformat_minor": 5
}
