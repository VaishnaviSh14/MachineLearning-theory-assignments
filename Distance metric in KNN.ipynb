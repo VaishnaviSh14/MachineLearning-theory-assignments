{
 "cells": [
  {
   "cell_type": "markdown",
   "id": "45f2c2d2-df21-44ef-9484-68e9b622907c",
   "metadata": {},
   "source": [
    "Q1. What is the main difference between the Euclidean distance metric and the Manhattan distance\n",
    "metric in KNN? How might this difference affect the performance of a KNN classifier or regressor?\n",
    "\n",
    "Ans.\n",
    "\n",
    "The main difference between the Euclidean distance metric and the Manhattan distance metric is that the Euclidean distance takes into account the squared differences between the corresponding features of two data points, while the Manhattan distance only takes into account the absolute differences. This means that the Euclidean distance is more sensitive to outliers than the Manhattan distance.\n",
    "\n",
    "In general, the Euclidean distance is a better choice for KNN classifiers and regressors when the features are normally distributed. The Manhattan distance is a better choice when the features are not normally distributed or when there are outliers in the dataset.\n"
   ]
  },
  {
   "cell_type": "markdown",
   "id": "6020fa99-d225-4b45-8669-c5d3b68b75ab",
   "metadata": {},
   "source": [
    "Q2. How do you choose the optimal value of k for a KNN classifier or regressor? What techniques can be\n",
    "used to determine the optimal k value?\n",
    "\n",
    "Cross-validation: This is a technique where the dataset is split into a training set and a test set. The KNN algorithm is then trained on the training set and tested on the test set for different values of k. The value of k that results in the best performance on the test set is chosen as the optimal value of k.\n",
    "Grid search: This is a technique where the KNN algorithm is trained on the training set for a grid of different values of k. The performance of the KNN algorithm is then evaluated on the test set for each value of k. The value of k that results in the best performance on the test set is chosen as the optimal value of k.\n"
   ]
  },
  {
   "cell_type": "markdown",
   "id": "ba03c6c2-284a-4d54-9a5b-5004fb971caf",
   "metadata": {},
   "source": [
    "Q3. How does the choice of distance metric affect the performance of a KNN classifier or regressor? In\n",
    "what situations might you choose one distance metric over the other?\n",
    "\n",
    "Ans.\n",
    "The most common distance metrics used in KNN are:\n",
    "\n",
    "Euclidean distance: This is the most commonly used distance metric. It measures the distance between two points in a Euclidean space.\n",
    "Manhattan distance: This distance metric measures the distance between two points in a city block grid.\n",
    "\n",
    "The choice of distance metric depends on the nature of the data and the problem being solved. For example, if the data is continuous and the problem is classification, then the Euclidean distance is a good choice. If the data is categorical and the problem is regression, then the Manhattan distance is a good choice.\n"
   ]
  },
  {
   "cell_type": "markdown",
   "id": "d8e656ae-30fd-4d58-985e-d3ae386c1665",
   "metadata": {},
   "source": [
    "Q4. What are some common hyperparameters in KNN classifiers and regressors, and how do they affect\n",
    "the performance of the model? How might you go about tuning these hyperparameters to improve\n",
    "model performance?\n",
    "\n",
    "Ans.\n",
    "\n",
    "The most common hyperparameters in KNN classifiers and regressors are:\n",
    "\n",
    "K: This is the number of nearest neighbors to consider when making a prediction.\n",
    "Distance metric: This is the distance metric used to measure the distance between points.\n",
    "Weighting scheme: This is the scheme used to weight the votes of the nearest neighbors.\n",
    "Threshold: This is the threshold used to decide whether to classify a point as belonging to a particular class.\n",
    "\n",
    "The choice of hyperparameters can have a significant impact on the performance of the model. The best way to tune the hyperparameters is to experiment with different values and see what works best for the given data set.\n",
    "Start with a small value of K and increase it gradually.\n",
    "Try different distance metrics and see which one gives the best results.\n",
    "Use a weighting scheme that takes into account the distance between the points.\n",
    "Set the threshold to a value that minimizes the error rate.\n"
   ]
  },
  {
   "cell_type": "markdown",
   "id": "2623527e-68ad-44bf-9a96-a5d59d6365e1",
   "metadata": {},
   "source": [
    "Q5. How does the size of the training set affect the performance of a KNN classifier or regressor? What\n",
    "techniques can be used to optimize the size of the training set?\n",
    "\n",
    "Ans.\n",
    "\n",
    "The size of the training set can have a significant impact on the performance of a KNN classifier or regressor. A larger training set will generally lead to better performance, but it can also be more computationally expensive to train the model.\n",
    "\n",
    "Here are some techniques that can be used to optimize the size of the training set:\n",
    "\n",
    "Use a subset of the training set for training the model.\n",
    "Use a technique called cross-validation to evaluate the performance of the model on different subsets of the training set.\n",
    "Use a technique called regularization to reduce the complexity of the model and prevent overfitting."
   ]
  },
  {
   "cell_type": "markdown",
   "id": "5d921bf3-0bb8-4a68-8064-07ab27f974bd",
   "metadata": {},
   "source": [
    "Q6. What are some potential drawbacks of using KNN as a classifier or regressor? How might you\n",
    "overcome these drawbacks to improve the performance of the model?\n",
    "\n",
    "Ans.\n",
    "\n",
    "KNN is a simple and effective algorithm, but it has some potential drawbacks, such as:\n",
    "\n",
    "It can be computationally expensive to train the model, especially for large training sets.\n",
    "It can be sensitive to noise in the data.\n",
    "It can be slow to make predictions for new points.\n",
    "Here are some ways to overcome these drawbacks:\n",
    "\n",
    "Use a smaller value of K.\n",
    "Use a more efficient distance metric.\n",
    "Use a technique called dimensionality reduction to reduce the size of the training set.\n",
    "Use a technique called ensemble learning to combine the predictions of multiple KNN models."
   ]
  }
 ],
 "metadata": {
  "kernelspec": {
   "display_name": "Python 3 (ipykernel)",
   "language": "python",
   "name": "python3"
  },
  "language_info": {
   "codemirror_mode": {
    "name": "ipython",
    "version": 3
   },
   "file_extension": ".py",
   "mimetype": "text/x-python",
   "name": "python",
   "nbconvert_exporter": "python",
   "pygments_lexer": "ipython3",
   "version": "3.10.8"
  }
 },
 "nbformat": 4,
 "nbformat_minor": 5
}
