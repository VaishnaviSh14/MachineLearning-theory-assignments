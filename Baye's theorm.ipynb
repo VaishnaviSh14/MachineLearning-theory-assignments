{
 "cells": [
  {
   "cell_type": "markdown",
   "id": "2e25cabe-99db-497d-96c3-32ccc74c9afb",
   "metadata": {},
   "source": [
    "Q1. What is Bayes' theorem?\n",
    "\n",
    "Ans.\n",
    "\n",
    "Bayes' theorem is a way of calculating the probability of an event, given the probability of another event that has already occurred. It is named after Thomas Bayes, a British mathematician who first described it in the 18th century."
   ]
  },
  {
   "cell_type": "markdown",
   "id": "ef79e079-81d8-47f8-b3f5-bcf46dc6ffdb",
   "metadata": {},
   "source": [
    "Q2. What is the formula for Bayes' theorem?\n",
    "\n",
    "Ans.\n",
    "\n",
    "The formula for Bayes' theorem is:\n",
    "\n",
    "P(A|B) = P(B|A)P(A) / P(B)\n",
    "\n",
    "P(A|B) is the probability of event A occurring, given that event B has already occurred.\n",
    "P(B|A) is the probability of event B occurring, given that event A has already occurred.\n",
    "P(A) is the prior probability of event A occurring.\n",
    "P(B) is the prior probability of event B occurring."
   ]
  },
  {
   "cell_type": "markdown",
   "id": "7da53c94-7233-4729-bc6b-88ae8d3a7766",
   "metadata": {},
   "source": [
    "Q3. How is Bayes' theorem used in practice?\n",
    "\n",
    "Ans.\n",
    "Bayes' theorem can be used in a variety of ways in practice, including:\n",
    "\n",
    "Medical diagnosis: Bayes' theorem can be used to calculate the probability of a patient having a particular disease, given the results of their medical tests.\n",
    "Spam filtering: Bayes' theorem can be used to calculate the probability of an email being spam, given the content of the email.\n",
    "Credit scoring: Bayes' theorem can be used to calculate the probability of a borrower defaulting on their loan, given their credit history.\n"
   ]
  },
  {
   "cell_type": "markdown",
   "id": "65773273-1d16-49b2-a2f7-10358c2572c5",
   "metadata": {},
   "source": [
    "Q4. What is the relationship between Bayes' theorem and conditional probability?\n",
    "\n",
    "Ans.\n",
    "Conditional probability is the probability of event A occurring, given that event B has already occurred. Bayes' theorem can be used to calculate conditional probability by reversing the order of the variables in the formula."
   ]
  },
  {
   "cell_type": "markdown",
   "id": "4f0a613f-b342-486c-8e99-39f269d05dd5",
   "metadata": {},
   "source": [
    "Q5. How do you choose which type of Naive Bayes classifier to use for any given problem?\n",
    "Ans.\n",
    "Gaussian Naive Bayes: This classifier assumes that the features in the dataset are normally distributed.\n",
    "Multinomial Naive Bayes: This classifier assumes that the features in the dataset are discrete and take on a limited number of values.\n",
    "Bernoulli Naive Bayes: This classifier assumes that the features in the dataset are binary and can only take on two values.\n"
   ]
  },
  {
   "cell_type": "markdown",
   "id": "5deb1b5d-6720-4dac-9891-288e0d1f3c05",
   "metadata": {},
   "source": [
    "Q6. Assignment:\n",
    "You have a dataset with two features, X1 and X2, and two possible classes, A and B. You want to use Naive\n",
    "Bayes to classify a new instance with features X1 = 3 and X2 = 4. The following table shows the frequency of\n",
    "each feature value for each class:\n",
    "Class X1=1 X1=2 X1=3 X2=1 X2=2 X2=3 X2=4\n",
    "A 3 3 4 4 3 3 3\n",
    "B 2 2 1 2 2 2 3\n",
    "\n",
    "Assuming equal prior probabilities for each class, which class would Naive Bayes predict the new instance\n",
    "to belong to?\n",
    "\n",
    "Ans.\n",
    "\n",
    "P(X1 = 3 | A) = 4 / (3 + 3 + 4) = 4 / 10 = 0.4\n",
    "P(X2 = 4 | A) = 3 / (3 + 3 + 3 + 3) = 3 / 12 = 0.25\n",
    "P(A) = 1/2 (assuming equal prior probabilities for A and B)\n",
    "\n",
    "P(X1 = 3 | B) = 1 / (2 + 2 + 1) = 1 / 5 = 0.2\n",
    "P(X2 = 4 | B) = 3 / (2 + 2 + 2 + 3) = 3 / 9 = 0.333...\n",
    "P(B) = 1/2 (assuming equal prior probabilities for A and B)\n",
    "\n",
    "calculate the probabilities for each class:\n",
    "\n",
    "P(A | X1 = 3, X2 = 4) = 0.4 * 0.25 * 0.5 = 0.05\n",
    "P(B | X1 = 3, X2 = 4) = 0.2 * 0.333... * 0.5 ≈ 0.033...\n",
    "\n",
    "Since P(A | X1 = 3, X2 = 4) > P(B | X1 = 3, X2 = 4), Naive Bayes would predict that the new instance belongs to Class A.\n",
    "\n",
    "\n",
    "\n",
    "\n"
   ]
  }
 ],
 "metadata": {
  "kernelspec": {
   "display_name": "Python 3 (ipykernel)",
   "language": "python",
   "name": "python3"
  },
  "language_info": {
   "codemirror_mode": {
    "name": "ipython",
    "version": 3
   },
   "file_extension": ".py",
   "mimetype": "text/x-python",
   "name": "python",
   "nbconvert_exporter": "python",
   "pygments_lexer": "ipython3",
   "version": "3.10.8"
  }
 },
 "nbformat": 4,
 "nbformat_minor": 5
}
