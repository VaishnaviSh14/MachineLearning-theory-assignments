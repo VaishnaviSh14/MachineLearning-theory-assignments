{
 "cells": [
  {
   "cell_type": "code",
   "execution_count": 1,
   "id": "622a707c-750f-46c6-aa00-e2cda4940a29",
   "metadata": {},
   "outputs": [],
   "source": [
    "import numpy as np"
   ]
  },
  {
   "cell_type": "code",
   "execution_count": null,
   "id": "5bd7c1f4-ab18-4fed-84dd-29b194d6e04b",
   "metadata": {},
   "outputs": [],
   "source": [
    "#Keypoints of 5 number summary - \n",
    "minimum \n",
    "First Quartile - Q1\n",
    "median\n",
    "Third Quartile - Q3\n",
    "maximum"
   ]
  },
  {
   "cell_type": "code",
   "execution_count": 2,
   "id": "7b9826e1-c824-471a-b453-60bd5cc3a549",
   "metadata": {},
   "outputs": [],
   "source": [
    "lst_marks = [45,32,56,75,89,54,32,89,90,87,67,54,45,98,99,67,74]\n",
    "minimum,Q1,median,Q3,maximum = np.quantile(lst_marks,[0,0.25,0.50,0.75,1.0])"
   ]
  },
  {
   "cell_type": "code",
   "execution_count": 3,
   "id": "8f80857c-24ed-4e8b-bdd2-22256082707f",
   "metadata": {},
   "outputs": [
    {
     "data": {
      "text/plain": [
       "(32.0, 54.0, 67.0, 89.0, 99.0)"
      ]
     },
     "execution_count": 3,
     "metadata": {},
     "output_type": "execute_result"
    }
   ],
   "source": [
    "minimum,Q1,median,Q3,maximum"
   ]
  },
  {
   "cell_type": "code",
   "execution_count": 4,
   "id": "a319ebe8-1e80-4ceb-b882-41645e3dd86c",
   "metadata": {},
   "outputs": [
    {
     "name": "stdout",
     "output_type": "stream",
     "text": [
      "35.0\n"
     ]
    }
   ],
   "source": [
    "IQR = Q3-Q1\n",
    "print(IQR)"
   ]
  },
  {
   "cell_type": "code",
   "execution_count": 5,
   "id": "9d4126dc-9216-4330-8fb8-be81b1338c3d",
   "metadata": {},
   "outputs": [],
   "source": [
    "lower_fence = Q1-1.5*(IQR)\n",
    "higher_fence = Q3 +1.5*(IQR)"
   ]
  },
  {
   "cell_type": "code",
   "execution_count": 6,
   "id": "3bd1831a-b159-462b-95a3-f226716e2110",
   "metadata": {},
   "outputs": [
    {
     "data": {
      "text/plain": [
       "1.5"
      ]
     },
     "execution_count": 6,
     "metadata": {},
     "output_type": "execute_result"
    }
   ],
   "source": [
    "lower_fence"
   ]
  },
  {
   "cell_type": "code",
   "execution_count": 7,
   "id": "0152bb32-68ee-4f3d-8b75-8b2d01daf91e",
   "metadata": {},
   "outputs": [
    {
     "data": {
      "text/plain": [
       "141.5"
      ]
     },
     "execution_count": 7,
     "metadata": {},
     "output_type": "execute_result"
    }
   ],
   "source": [
    "higher_fence"
   ]
  },
  {
   "cell_type": "code",
   "execution_count": 8,
   "id": "c4eb7992-657c-4b4e-9a76-bee21f7c2dbd",
   "metadata": {},
   "outputs": [],
   "source": [
    "lst_marks = [-100,-200,45,32,56,75,89,54,32,89,90,87,67,54,45,98,99,67,74,150,170,180]\n"
   ]
  },
  {
   "cell_type": "code",
   "execution_count": 10,
   "id": "6975c275-f9e9-458d-9534-8c11a7ecbeeb",
   "metadata": {},
   "outputs": [],
   "source": [
    "import seaborn as sns"
   ]
  },
  {
   "cell_type": "code",
   "execution_count": 11,
   "id": "b6683a07-679d-46cb-a027-4d0fe437d262",
   "metadata": {},
   "outputs": [
    {
     "data": {
      "text/plain": [
       "<AxesSubplot: >"
      ]
     },
     "execution_count": 11,
     "metadata": {},
     "output_type": "execute_result"
    },
    {
     "data": {
      "image/png": "[encoded data removed]",
      "text/plain": [
       "<Figure size 640x480 with 1 Axes>"
      ]
     },
     "metadata": {},
     "output_type": "display_data"
    }
   ],
   "source": [
    "sns.boxplot(lst_marks)"
   ]
  },
  {
   "cell_type": "code",
   "execution_count": null,
   "id": "de6f6f1c-8fd3-43ea-aea2-90160608e62c",
   "metadata": {},
   "outputs": [],
   "source": []
  }
 ],
 "metadata": {
  "kernelspec": {
   "display_name": "Python 3 (ipykernel)",
   "language": "python",
   "name": "python3"
  },
  "language_info": {
   "codemirror_mode": {
    "name": "ipython",
    "version": 3
   },
   "file_extension": ".py",
   "mimetype": "text/x-python",
   "name": "python",
   "nbconvert_exporter": "python",
   "pygments_lexer": "ipython3",
   "version": "3.10.8"
  }
 },
 "nbformat": 4,
 "nbformat_minor": 5
}
