{
 "cells": [
  {
   "cell_type": "raw",
   "id": "2bd0059e-1e2a-455f-91de-e8b40ae89ef0",
   "metadata": {},
   "source": [
    "Q1- Explain the following with an example\n",
    "a) Artificial Intelligence\n",
    "b) Machine Learning\n",
    "c) Deep Learning\n",
    "\n",
    "Ans.\n",
    "a)Smart Applications that can perform its own task without any human intervention\n",
    "EG - Robots , self driving cars.\n",
    "\n",
    "b)It provides stats tool to analyze, visualize and develop predictive models from data.\n",
    "EG - Amazon and Netflix - They use a recommendation system.\n",
    "\n",
    "c)Deep learning is part of a broader family of machine learning methods, which is based on artificial neural networks with representation learning.\n",
    "EG - Object detection , Image recognition"
   ]
  },
  {
   "cell_type": "raw",
   "id": "cc4e2485-a261-462c-901b-df33ee0c0395",
   "metadata": {},
   "source": [
    "Q2- What is supervised learning? List some examples of supervised learning.\n",
    "\n",
    "Ans.\n",
    "Supervised learning - It is classified into two categories of algorithms that are classification and regression\n",
    "In supervised learning we have a dataset given , in this we have a specific output and out entire model is trained to predict this output.\n",
    "EG - Image and speech recognition, recommendation systems, and fraud detection"
   ]
  },
  {
   "cell_type": "raw",
   "id": "58a083e3-8949-4e0f-921d-865082bb2d37",
   "metadata": {},
   "source": [
    "Q3- What is unsupervised learning? List some examples of unsupervised learning.\n",
    "\n",
    "Ans.\n",
    "In this we do not have any outputs as such , instead we have a dataset and for it we need to form clusters or similar groups.\n",
    "Eg - Customer Segmentation,Anomaly detection,Neural Networks.\n"
   ]
  },
  {
   "cell_type": "raw",
   "id": "7db420df-783c-47d4-8c87-148d11114cff",
   "metadata": {},
   "source": [
    "Q4- What is the difference between AI, ML, DL, and DS?\n",
    "Ans.\n",
    "\n",
    "a)AI - Smart Applications that can perform its own task without any human intervention\n",
    "EG - Robots , self driving cars.\n",
    "\n",
    "b)ML - It provides stats tool to analyze, visualize and develop predictive models from data.\n",
    "EG - Amazon and Netflix - They use a recommendation system.\n",
    "\n",
    "c)DL - Deep learning is part of a broader family of machine learning methods, which is based on artificial neural networks with representation learning.\n",
    "EG - Object detection , Image recognition\n",
    "\n",
    "d)DS -  It is a multidisciplinary approach that combines principles and practices from the fields of mathematics, statistics, artificial intelligence, and computer engineering to analyze large amounts of data."
   ]
  },
  {
   "cell_type": "raw",
   "id": "bc37d71b-9e15-4f75-bc9c-10364562c4e9",
   "metadata": {},
   "source": [
    "Q5 - What are the main differences between supervised, unsupervised, and semi-supervised learning?\n",
    "\n",
    "Ans.\n",
    "Supervised learning - It is classified into two categories of algorithms that are classification and regression\n",
    "In supervised learning we have a dataset given , in this we have a specific output and out entire model is trained to predict this output.\n",
    "EG - Image and speech recognition, recommendation systems, and fraud detection\n",
    "\n",
    "Unsupervised learning - In this we do not have any outputs as such , instead we have a dataset and for it we need to form clusters or similar groups.\n",
    "Eg - Customer Segmentation,Anomaly detection,Neural Networks.\n",
    "\n",
    "Semi-supervised learning - IT is a combination of supervised and unsupervised learning.\n"
   ]
  },
  {
   "cell_type": "raw",
   "id": "37395bce-a605-48d3-95a6-da620d642bff",
   "metadata": {},
   "source": [
    "Q6- What is train, test and validation split? Explain the importance of each term.\n",
    "Ans.\n",
    "1.Train - The training set is a portion of the dataset used to train the machine learning model. The training set is of utmost importance because it is used to teach the model the underlying patterns and relationships within the data. The model's ability to learn from the training set will significantly impact its performance on new, unseen data.\n",
    "\n",
    "2. Test - In this we test the model to see how model is performing with respect to accuracy.The model will never know about this dataset.. By evaluating the model on the test set, we can determine how well it performs on data it has not encountered before, ensuring that it is not just memorizing the training data but learning meaningful patterns.\n",
    "\n",
    "3. Validation - We perform hyperparameter tunning of the model.Here we tune some parameters of the model , so that our model's accuracy increases. It helps optimize the model's performance by allowing us to experiment with various hyperparameter configurations and select the best-performing model. \n"
   ]
  },
  {
   "cell_type": "raw",
   "id": "bd6751cf-15cc-4541-9f45-1774ab8952d5",
   "metadata": {},
   "source": [
    "Q7 - How can Unsupervised learning can be used in anomaly detection?\n",
    "Ans.Unsupervised learning can be used in anomaly detection to identify unusual patterns or outliers in data without the need for labeled examples of anomalies. "
   ]
  },
  {
   "cell_type": "raw",
   "id": "c83cecef-a420-4384-b145-0b38c5aaebd0",
   "metadata": {},
   "source": [
    "Q8 - List down some commonly used supervised and unsupervised learning algorithms.\n",
    "Ans.\n",
    "1. Supervised Learning Algorithms:\n",
    "\n",
    "Linear Regression\n",
    "Logistic Regression\n",
    "Support Vector Machines (SVM)\n",
    "Decision Trees\n",
    "Random Forest\n",
    "Gradient Boosting Machines (GBM)\n",
    "Naive Bayes\n",
    "K-Nearest Neighbors (KNN)\n",
    "\n",
    "2. Unsupervised Learning Algorithms:\n",
    "\n",
    "K-Means\n",
    "DBSCAN (Density-Based Spatial Clustering of Applications with Noise)\n",
    "Gaussian Mixture Models (GMM)\n",
    "Autoencoders\n",
    "Isolation Forest\n",
    "Local Outlier Factor (LOF)\n",
    "Principal Component Analysis (PCA)\n",
    "t-distributed Stochastic Neighbor Embedding (t-SNE)"
   ]
  }
 ],
 "metadata": {
  "kernelspec": {
   "display_name": "Python 3 (ipykernel)",
   "language": "python",
   "name": "python3"
  },
  "language_info": {
   "codemirror_mode": {
    "name": "ipython",
    "version": 3
   },
   "file_extension": ".py",
   "mimetype": "text/x-python",
   "name": "python",
   "nbconvert_exporter": "python",
   "pygments_lexer": "ipython3",
   "version": "3.10.8"
  }
 },
 "nbformat": 4,
 "nbformat_minor": 5
}
