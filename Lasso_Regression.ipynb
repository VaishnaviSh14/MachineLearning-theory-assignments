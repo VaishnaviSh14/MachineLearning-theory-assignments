{
 "cells": [
  {
   "cell_type": "markdown",
   "id": "8a20b476-6b92-411c-9019-a1c89e990b4d",
   "metadata": {},
   "source": [
    "Q1. What is Lasso Regression, and how does it differ from other regression techniques?\n",
    "\n",
    "Ans.\n",
    "Lasso regression is a type of linear regression that adds a regularization term to the loss function. This regularization term penalizes the sum of the absolute values of the coefficients, which helps to prevent overfitting and encourages sparsity in the model. Other regression techniques, such as ordinary least squares regression and ridge regression, do not have this regularization term.\n"
   ]
  },
  {
   "cell_type": "markdown",
   "id": "598c30ab-87e6-4602-a557-94da9622789f",
   "metadata": {},
   "source": [
    "Q2. What is the main advantage of using Lasso Regression in feature selection?\n",
    "\n",
    "Ans.\n",
    "The main advantage of using Lasso regression in feature selection is that it can automatically select the most important features for the model. "
   ]
  },
  {
   "cell_type": "markdown",
   "id": "702260d4-3695-45cf-9e2c-52e216cd6429",
   "metadata": {},
   "source": [
    "Q3. How do you interpret the coefficients of a Lasso Regression model?\n",
    "\n",
    "Ans.\n",
    "\n",
    "In a Lasso Regression model, the coefficients represent the relationship between the independent variables (features) and the dependent variable (target) while taking into account regularization. Lasso Regression adds a penalty term to the linear regression cost function, which encourages the model to shrink some coefficients to exactly zero. This has the effect of performing feature selection, as some features may be deemed less relevant and have their coefficients reduced to zero.\n",
    "\n",
    "Interpreting the coefficients of a Lasso Regression model involves considering both the magnitude and the sign of each coefficient"
   ]
  },
  {
   "cell_type": "markdown",
   "id": "acbfc69f-264e-4c45-b83a-a81587f905a5",
   "metadata": {},
   "source": [
    "Q4. What are the tuning parameters that can be adjusted in Lasso Regression, and how do they affect the\n",
    "model's performance?\n",
    "\n",
    "Ans.\n",
    "The tuning parameters that can be adjusted in Lasso regression are:\n",
    "\n",
    "The regularization parameter (lambda): This controls the amount of regularization. A larger value of lambda will result in more shrinkage of the coefficients, while a smaller value of lambda will result in less shrinkage.\n",
    "The number of features to select: This can be set manually or by using a cross-validation technique.\n",
    "\n",
    "The regularization parameter and the number of features to select affect the model's performance in the following ways:\n",
    "\n",
    "The regularization parameter controls the tradeoff between bias and variance. A larger value of lambda will reduce the variance of the model, but it will also increase the bias. A smaller value of lambda will reduce the bias of the model, but it will also increase the variance.\n",
    "The number of features to select controls the complexity of the model. A larger number of features will make the model more complex, but it may also make the model more accurate. A smaller number of features will make the model less complex, but it may also make the model less accurate.\n"
   ]
  },
  {
   "cell_type": "markdown",
   "id": "635c175e-1a33-49c7-a4a5-f610424ed86f",
   "metadata": {},
   "source": [
    "Q5. Can Lasso Regression be used for non-linear regression problems? If yes, how?\n",
    "\n",
    "Ans.\n",
    "\n",
    "Yes, Lasso regression can be used for non-linear regression problems. This can be done by transforming the data into a non-linear space before fitting the Lasso regression model."
   ]
  },
  {
   "cell_type": "markdown",
   "id": "1f67d42e-081b-4c36-8ff9-5db59a07f4f1",
   "metadata": {},
   "source": [
    "Q6. What is the difference between Ridge Regression and Lasso Regression?\n",
    "\n",
    "Ans.\n",
    "\n",
    "The main difference between ridge regression and Lasso regression is the type of regularization term that is used. Ridge regression uses a L2 regularization term, which penalizes the sum of the squares of the coefficients. Lasso regression uses a L1 regularization term, which penalizes the sum of the absolute values of the coefficients."
   ]
  },
  {
   "cell_type": "markdown",
   "id": "1c2d5a72-bff0-4591-b17e-e5f51882797c",
   "metadata": {},
   "source": [
    "Q7. Can Lasso Regression handle multicollinearity in the input features? If yes, how?\n",
    "\n",
    "Ans.\n",
    "Yes, Lasso regression can handle multicollinearity in the input features. This is because the L1 regularization term penalizes the sum of the absolute values of the coefficients, which forces some of the coefficients to zero. This means that the Lasso regression model will only include the features that are not collinear with each other.\n"
   ]
  },
  {
   "cell_type": "markdown",
   "id": "b111f352-dbb6-42b5-b864-eeba26193150",
   "metadata": {},
   "source": [
    "Q8. How do you choose the optimal value of the regularization parameter (lambda) in Lasso Regression?\n",
    "\n",
    "Ans.\n",
    "The optimal value of the regularization parameter (lambda) can be chosen using cross-validation. Cross-validation involves dividing the data into a training set and a test set. The Lasso regression model is then fit to the training set and the performance of the model is evaluated on the test set. This process is repeated for different values of lambda and the value of lambda that results in the best performance on the test set is chosen as the optimal value of lambda."
   ]
  }
 ],
 "metadata": {
  "kernelspec": {
   "display_name": "Python 3 (ipykernel)",
   "language": "python",
   "name": "python3"
  },
  "language_info": {
   "codemirror_mode": {
    "name": "ipython",
    "version": 3
   },
   "file_extension": ".py",
   "mimetype": "text/x-python",
   "name": "python",
   "nbconvert_exporter": "python",
   "pygments_lexer": "ipython3",
   "version": "3.10.8"
  }
 },
 "nbformat": 4,
 "nbformat_minor": 5
}
