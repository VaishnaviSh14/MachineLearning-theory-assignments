{
 "cells": [
  {
   "cell_type": "markdown",
   "id": "b6bf92ff-384b-4542-8808-a552ed685282",
   "metadata": {},
   "source": [
    "Q1. In order to predict house price based on several characteristics, such as location, square footage,\n",
    "number of bedrooms, etc., you are developing an SVM regression model. Which regression metric in this\n",
    "situation would be the best to employ?\n",
    "\n",
    "Dataset link:\n",
    "https://drive.google.com/file/d/1Z9oLpmt6IDRNw7IeNcHYTGeJRYypRSC0/view?usp=share_link\n",
    "\n",
    "Ans.\n",
    "\n",
    "The best regression metric to employ in this situation is mean absolute error (MAE). MAE is a measure of the average difference between the actual and predicted values. It is less sensitive to outliers than other metrics, such as mean squared error (MSE).\n",
    "\n"
   ]
  },
  {
   "cell_type": "markdown",
   "id": "f96f7ac1-eb6a-4fd7-bf25-53650444e014",
   "metadata": {},
   "source": [
    "\n",
    "Q2. You have built an SVM regression model and are trying to decide between using MSE or R-squared as\n",
    "your evaluation metric. Which metric would be more appropriate if your goal is to predict the actual price\n",
    "of a house as accurately as possible?\n",
    "\n",
    "Ans.\n",
    "\n",
    "\n",
    "If our goal is to predict the actual price of a house as accurately as possible, then the mean squared error (MSE) is the more appropriate evaluation metric. MSE is a measure of the average squared difference between the actual and predicted values. It is a more sensitive metric than R-squared and is therefore a better indicator of how well the model is able to predict the actual values."
   ]
  },
  {
   "cell_type": "markdown",
   "id": "f9f4eb64-0679-4bf9-8dfe-86d9291ea0b8",
   "metadata": {},
   "source": [
    "Q3. You have a dataset with a significant number of outliers and are trying to select an appropriate\n",
    "regression metric to use with your SVM model. Which metric would be the most appropriate in this\n",
    "scenario?\n",
    "\n",
    "Ans.\n",
    "\n",
    "If we have a dataset with a significant number of outliers, then the best regression metric to use is mean absolute percentage error (MAPE). MAPE is a measure of the average percentage difference between the actual and predicted values. It is less sensitive to outliers than other metrics, such as MSE and R-squared.\n"
   ]
  },
  {
   "cell_type": "markdown",
   "id": "fbe9ddc1-c5af-42b2-ba18-59552dd5fa4f",
   "metadata": {},
   "source": [
    "Q4. You have built an SVM regression model using a polynomial kernel and are trying to select the best\n",
    "metric to evaluate its performance. You have calculated both MSE and RMSE and found that both values\n",
    "are very close. Which metric should you choose to use in this case?\n",
    "\n",
    "Ans.\n",
    "In this case, since both metrics are very close, it does not matter which one we choose. However, if we are concerned about the impact of outliers, then you may want to choose RMSE, as it will be more sensitive to them.\n",
    "\n",
    "\n"
   ]
  },
  {
   "cell_type": "markdown",
   "id": "ea90a103-6b1f-49c1-a113-352ad4369af9",
   "metadata": {},
   "source": [
    "Q5. You are comparing the performance of different SVM regression models using different kernels (linear,\n",
    "polynomial, and RBF) and are trying to select the best evaluation metric. Which metric would be most\n",
    "appropriate if your goal is to measure how well the model explains the variance in the target variable?\n",
    "\n",
    "Ans.\n",
    "\n",
    "\n",
    "If our goal is to measure how well the model explains the variance in the target variable, then the R-squared metric is the most appropriate evaluation metric. R-squared is a measure of the proportion of the variance in the target variable that is explained by the model. A higher R-squared value indicates that the model is able to explain more of the variance in the target variable."
   ]
  }
 ],
 "metadata": {
  "kernelspec": {
   "display_name": "Python 3 (ipykernel)",
   "language": "python",
   "name": "python3"
  },
  "language_info": {
   "codemirror_mode": {
    "name": "ipython",
    "version": 3
   },
   "file_extension": ".py",
   "mimetype": "text/x-python",
   "name": "python",
   "nbconvert_exporter": "python",
   "pygments_lexer": "ipython3",
   "version": "3.10.8"
  }
 },
 "nbformat": 4,
 "nbformat_minor": 5
}
