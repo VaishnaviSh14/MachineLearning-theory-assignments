{
 "cells": [
  {
   "cell_type": "markdown",
   "id": "ce7b2319-e6b6-46b4-848b-b11b7c72f17f",
   "metadata": {},
   "source": [
    "Q1. What are the key steps involved in building an end-to-end web application, from development to\n",
    "deployment on the cloud?\n",
    "\n",
    "Ans.\n",
    "1. Data Collection\n",
    "2. Exploratory Data Analysis\n",
    "3. Feature Engineering - Feature Selection\n",
    "4. Model Training\n",
    "5. Web APP\n",
    "6. Deployment"
   ]
  },
  {
   "cell_type": "markdown",
   "id": "4e9bac11-3cee-468e-b779-1078b34eb267",
   "metadata": {},
   "source": [
    "Q2. Explain the difference between traditional web hosting and cloud hosting.\n",
    "\n",
    "Ans.\n",
    "Traditional web hosting is when you rent space on a web server from a hosting provider. The hosting provider is responsible for managing the server and ensuring that it is always up and running. Cloud hosting is when you rent computing resources, such as CPU, memory, and storage, from a cloud provider. The cloud provider is responsible for managing the resources and ensuring that they are available when you need them.\n",
    "\n",
    "The main difference between traditional web hosting and cloud hosting is that cloud hosting is more scalable and elastic. This means that you can easily add or remove resources as needed, and you only pay for the resources that you use."
   ]
  },
  {
   "cell_type": "code",
   "execution_count": null,
   "id": "bb62f92f-890b-460a-bb1c-946e93cee5db",
   "metadata": {},
   "outputs": [],
   "source": [
    "Q3. How do you choose the right cloud provider for your application deployment, and what factors\n",
    "should you consider?\n",
    "\n",
    "Ans.\n",
    "There are many factors to consider when choosing a cloud provider, such as:\n",
    "\n",
    "The type of resources you need\n",
    "The level of scalability and elasticity you need\n",
    "The cost of the resources\n",
    "The features and services offered by the provider\n",
    "The provider's reputation and reliability\n",
    "\n"
   ]
  },
  {
   "cell_type": "markdown",
   "id": "10fd68c5-26e8-449a-80e1-39cb227ff077",
   "metadata": {},
   "source": [
    "Q4. How do you design and build a responsive user interface for your web application, and what are\n",
    "some best practices to follow?\n",
    "\n",
    "Ans.\n",
    "\n",
    "A responsive user interface (UI) is a UI that adapts to the size and resolution of the device it is being viewed on. This means that the UI will look good and be easy to use on any device, whether it is a desktop computer, laptop, tablet, or smartphone.\n",
    "\n",
    "Some best practices for designing and building a responsive UI include:\n",
    "\n",
    "Using fluid grids and layouts\n",
    "Using media queries to control the layout of the UI on different devices\n",
    "Using responsive images and fonts\n",
    "Testing the UI on different devices\n"
   ]
  },
  {
   "cell_type": "markdown",
   "id": "7cfcc17f-d772-47fd-ad15-b72d1a3400c3",
   "metadata": {},
   "source": [
    "Q5. How do you integrate the machine learning model with the user interface for the Algerian Forest Fires\n",
    "project(which we discussed in class), and what APIs or libraries can you use for this purpose?\n",
    "\n",
    "Ans.\n",
    "\n",
    "Integrating a machine learning model with a user interface involves connecting the front-end (user interface) and the back-end (machine learning model) so that they can communicate and work together seamlessly.\n",
    "\n",
    "Libraries - \n",
    "\n",
    "import pickle\n",
    "from flask import Flask,request,jsonify,render_template\n",
    "import numpy as np\n",
    "import pandas as pd\n",
    "from sklearn.preprocessing import StandardScaler"
   ]
  }
 ],
 "metadata": {
  "kernelspec": {
   "display_name": "Python 3 (ipykernel)",
   "language": "python",
   "name": "python3"
  },
  "language_info": {
   "codemirror_mode": {
    "name": "ipython",
    "version": 3
   },
   "file_extension": ".py",
   "mimetype": "text/x-python",
   "name": "python",
   "nbconvert_exporter": "python",
   "pygments_lexer": "ipython3",
   "version": "3.10.8"
  }
 },
 "nbformat": 4,
 "nbformat_minor": 5
}
