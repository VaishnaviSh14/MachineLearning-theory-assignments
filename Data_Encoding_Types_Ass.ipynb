{
 "cells": [
  {
   "cell_type": "markdown",
   "id": "64767e5e-e5aa-48bd-b770-114ea8cd4451",
   "metadata": {},
   "source": [
    "Q1. What is data encoding? How is it useful in data science?\n",
    "\n",
    "Ans.\n",
    "\n",
    "Data encoding is the process of converting data from one format or representation to another. In data science, data encoding is an important technique used to prepare and transform data so that it can be effectively processed and used by machine learning algorithms and other data analysis tools.\n",
    "1. It helps convert categorical data into numerical representations.\n",
    "2. Text data can be transformed into numerical vectors using encoding techniques like word embedding.\n",
    "3. Image data can be encoded into numerical arrays for computer vision tasks.\n",
    "4. Feature scaling can be applied to normalize numerical features.\n",
    "5. Dimensionality reduction techniques like PCA help reduce data dimensionality.\n",
    "6. Data encoding can handle missing data by imputing values.\n"
   ]
  },
  {
   "cell_type": "markdown",
   "id": "7799521c-f344-46d3-a0c4-eb68bf057ad6",
   "metadata": {},
   "source": [
    "Q2. What is nominal encoding? Provide an example of how you would use it in a real-world scenario.\n",
    "Ans.\n",
    "Nominal Encoding (Label Encoding):\n",
    "Nominal encoding, also known as label encoding, is a data encoding technique where each unique category of a categorical variable is assigned a unique integer value. It is primarily used when there is no inherent ordinal relationship between the categories, and the numerical values are used only as identifiers for different categories. Nominal encoding is simple and can be useful when dealing with algorithms that can interpret numerical inputs but do not require ordinality\n",
    "\n",
    "Example:\n",
    "\n",
    "Japan - 0\n",
    "Germany - 1\n",
    "Nigeria - 2\n",
    "USA - 3\n",
    "Italy - 1\n",
    "\n",
    "\n"
   ]
  },
  {
   "cell_type": "markdown",
   "id": "c8167343-c08e-4ffd-a871-24fc260a75e2",
   "metadata": {},
   "source": [
    "Q3. In what situations is nominal encoding preferred over one-hot encoding? Provide a practical example.\n",
    "\n",
    "Ans.\n",
    "Nominal encoding (Label Encoding) is preferred over One-Hot Encoding (OHE) in situations where the categorical variable has a large number of unique categories and the algorithm used can effectively handle numerical inputs without assuming any ordinal relationships between the categories."
   ]
  },
  {
   "cell_type": "markdown",
   "id": "7cdd0551-2c82-4c3f-b2b7-d104125c2151",
   "metadata": {},
   "source": [
    "Q4. Suppose you have a dataset containing categorical data with 5 unique values. Which encoding\n",
    "technique would you use to transform this data into a format suitable for machine learning algorithms?\n",
    "Explain why you made this choice.\n",
    "\n",
    "Ans.\n",
    "One-Hot Encoding is a suitable choice in this case.\n",
    "\n",
    "Handling small number of categories: One-Hot Encoding works well even with a small number of unique categories. Since there are only 5 unique values, the resulting one-hot encoded dataset would still be relatively small, making it computationally efficient and not causing significant dimensionality issues.\n",
    "\n",
    "No ordinality assumption: One-Hot Encoding ensures that each category is represented independently without imposing any ordinal relationship between the categories. This is important when the categorical variable does not have any inherent order, and we want to treat each category as distinct and equally meaningful.\n",
    "\n",
    "Sparse representation: One-Hot Encoding creates a sparse binary matrix, where each row contains only a single 1 (representing the presence of the category) and the rest of the elements are 0. This sparse representation is memory-efficient and allows algorithms to process the data effectively.\n",
    "\n",
    "Compatibility with machine learning algorithms: Many machine learning algorithms can naturally handle numerical inputs, making them compatible with one-hot encoded data. These algorithms can work directly with binary representations without any additional preprocessing steps."
   ]
  },
  {
   "cell_type": "markdown",
   "id": "43f1c6c8-d0af-48ee-a4be-b63401951dce",
   "metadata": {},
   "source": [
    "Q5. In a machine learning project, you have a dataset with 1000 rows and 5 columns. Two of the columns\n",
    "are categorical, and the remaining three columns are numerical. If you were to use nominal encoding to\n",
    "transform the categorical data, how many new columns would be created? Show your calculations.\n",
    "\n",
    "Ans.\n",
    "\n",
    "To transform categorical data using nominal encoding, we create new columns equal to the number of unique categories in each categorical column.\n",
    "Let's assume the first categorical column has 10 unique categories, and the second categorical column has 5 unique categories.\n",
    "For the first categorical column, we would create 10 new columns, each representing one category. Similarly, for the second categorical column, we would create 5 new columns.\n",
    "Therefore, the total number of new columns created would be 10 + 5 = 15."
   ]
  },
  {
   "cell_type": "markdown",
   "id": "9440e577-d0a4-4358-a663-f3242aadf302",
   "metadata": {},
   "source": [
    "Q6. You are working with a dataset containing information about different types of animals, including their\n",
    "species, habitat, and diet. Which encoding technique would you use to transform the categorical data into\n",
    "a format suitable for machine learning algorithms? Justify your answer.\n",
    "\n",
    "Ans.\n",
    "Nominal Encoding (One-Hot Encoding):\n",
    "If the categorical variables have no inherent order or hierarchy and are nominal, then one-hot encoding (or dummy encoding) would be a suitable choice."
   ]
  },
  {
   "cell_type": "markdown",
   "id": "e9ab23db-a710-4719-a8ab-3abbe0944952",
   "metadata": {},
   "source": [
    "Q7.You are working on a project that involves predicting customer churn for a telecommunications\n",
    "company. You have a dataset with 5 features, including the customer's gender, age, contract type,\n",
    "monthly charges, and tenure. Which encoding technique(s) would you use to transform the categorical\n",
    "data into numerical data? Provide a step-by-step explanation of how you would implement the encoding.\n",
    "\n",
    "Ans.\n",
    "\n",
    "Step 1: Identify the Categorical Feature\n",
    "In this dataset, the only categorical feature is \"gender,\" which has two categories (e.g., male and female).\n",
    "\n",
    "Step 2: Choose the Encoding Technique\n",
    "Since we have a binary categorical feature (two categories), one common encoding technique we can use is Label Encoding. If there were more than two categories in the categorical feature, we could have considered one-hot encoding or other techniques like target encoding based on the characteristics of the data and the machine learning algorithm being used.\n",
    "\n",
    "Step 3: Implement Label Encoding\n",
    "Label Encoding is the process of converting the categorical values into numerical values. In Python, we can use libraries like scikit-learn to perform label encoding.\n",
    "\n",
    "from sklearn.preprocessing import LabelEncoder\n",
    "\n",
    "#Sample data\n",
    "gender_data = ['male', 'female', 'male', 'male', 'female', 'female']\n",
    "\n",
    "#Initialize the LabelEncoder\n",
    "label_encoder = LabelEncoder()\n",
    "\n",
    "#Fit and transform the data\n",
    "encoded_gender = label_encoder.fit_transform(gender_data)\n",
    "\n",
    "#Display the encoded values\n",
    "print(encoded_gender)\n"
   ]
  }
 ],
 "metadata": {
  "kernelspec": {
   "display_name": "Python 3 (ipykernel)",
   "language": "python",
   "name": "python3"
  },
  "language_info": {
   "codemirror_mode": {
    "name": "ipython",
    "version": 3
   },
   "file_extension": ".py",
   "mimetype": "text/x-python",
   "name": "python",
   "nbconvert_exporter": "python",
   "pygments_lexer": "ipython3",
   "version": "3.10.8"
  }
 },
 "nbformat": 4,
 "nbformat_minor": 5
}
